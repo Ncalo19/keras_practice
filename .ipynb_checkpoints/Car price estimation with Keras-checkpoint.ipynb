{
 "cells": [
  {
   "cell_type": "code",
   "execution_count": 33,
   "metadata": {},
   "outputs": [
    {
     "name": "stdout",
     "output_type": "stream",
     "text": [
      "https://datascienceplus.com/keras-regression-based-neural-networks/\n"
     ]
    }
   ],
   "source": [
    "print(\"https://datascienceplus.com/keras-regression-based-neural-networks/\")"
   ]
  },
  {
   "cell_type": "code",
   "execution_count": 34,
   "metadata": {},
   "outputs": [],
   "source": [
    "import matplotlib.pyplot as plt\n",
    "import numpy as np\n",
    "import pandas as pd\n",
    "from sklearn.model_selection import train_test_split\n",
    "from sklearn.model_selection import cross_val_score\n",
    "from sklearn.model_selection import KFold\n",
    "from sklearn.pipeline import Pipeline\n",
    "from sklearn.preprocessing import MinMaxScaler\n",
    "from tensorflow.python.keras.models import Sequential\n",
    "from tensorflow.python.keras.layers import Dense\n",
    "from tensorflow.python.keras.wrappers.scikit_learn import KerasRegressor"
   ]
  },
  {
   "cell_type": "code",
   "execution_count": 35,
   "metadata": {},
   "outputs": [
    {
     "ename": "TypeError",
     "evalue": "loadtxt() got an unexpected keyword argument 'header'",
     "output_type": "error",
     "traceback": [
      "\u001b[1;31m---------------------------------------------------------------------------\u001b[0m",
      "\u001b[1;31mTypeError\u001b[0m                                 Traceback (most recent call last)",
      "\u001b[1;32m<ipython-input-35-9b94e0b86ae3>\u001b[0m in \u001b[0;36m<module>\u001b[1;34m\u001b[0m\n\u001b[0;32m      1\u001b[0m \u001b[1;31m#Variables\u001b[0m\u001b[1;33m\u001b[0m\u001b[1;33m\u001b[0m\u001b[1;33m\u001b[0m\u001b[0m\n\u001b[1;32m----> 2\u001b[1;33m \u001b[0mdataset\u001b[0m\u001b[1;33m=\u001b[0m\u001b[0mnp\u001b[0m\u001b[1;33m.\u001b[0m\u001b[0mloadtxt\u001b[0m\u001b[1;33m(\u001b[0m\u001b[1;34mr'C:\\Users\\nCalo\\Documents\\Automifai\\Research\\Coding Lessons\\Keras\\Data sets\\cars.csv'\u001b[0m\u001b[1;33m,\u001b[0m \u001b[0mheader\u001b[0m \u001b[1;33m=\u001b[0m \u001b[1;36m0\u001b[0m\u001b[1;33m,\u001b[0m \u001b[0mindex_col\u001b[0m \u001b[1;33m=\u001b[0m \u001b[1;36m0\u001b[0m\u001b[1;33m,\u001b[0m \u001b[0mdelimiter\u001b[0m\u001b[1;33m=\u001b[0m\u001b[1;34m\",\"\u001b[0m\u001b[1;33m)\u001b[0m\u001b[1;33m\u001b[0m\u001b[1;33m\u001b[0m\u001b[0m\n\u001b[0m\u001b[0;32m      3\u001b[0m \u001b[0mx\u001b[0m\u001b[1;33m=\u001b[0m\u001b[0mdataset\u001b[0m\u001b[1;33m[\u001b[0m\u001b[1;33m:\u001b[0m\u001b[1;33m,\u001b[0m\u001b[1;36m0\u001b[0m\u001b[1;33m:\u001b[0m\u001b[1;36m5\u001b[0m\u001b[1;33m]\u001b[0m\u001b[1;33m\u001b[0m\u001b[1;33m\u001b[0m\u001b[0m\n\u001b[0;32m      4\u001b[0m \u001b[0my\u001b[0m\u001b[1;33m=\u001b[0m\u001b[0mdataset\u001b[0m\u001b[1;33m[\u001b[0m\u001b[1;33m:\u001b[0m\u001b[1;33m,\u001b[0m\u001b[1;36m5\u001b[0m\u001b[1;33m]\u001b[0m\u001b[1;33m\u001b[0m\u001b[1;33m\u001b[0m\u001b[0m\n\u001b[0;32m      5\u001b[0m \u001b[0my\u001b[0m\u001b[1;33m=\u001b[0m\u001b[0mnp\u001b[0m\u001b[1;33m.\u001b[0m\u001b[0mreshape\u001b[0m\u001b[1;33m(\u001b[0m\u001b[0my\u001b[0m\u001b[1;33m,\u001b[0m \u001b[1;33m(\u001b[0m\u001b[1;33m-\u001b[0m\u001b[1;36m1\u001b[0m\u001b[1;33m,\u001b[0m\u001b[1;36m1\u001b[0m\u001b[1;33m)\u001b[0m\u001b[1;33m)\u001b[0m\u001b[1;33m\u001b[0m\u001b[1;33m\u001b[0m\u001b[0m\n",
      "\u001b[1;31mTypeError\u001b[0m: loadtxt() got an unexpected keyword argument 'header'"
     ]
    }
   ],
   "source": [
    "#Variables\n",
    "dataset=np.loadtxt(r'C:\\Users\\nCalo\\Documents\\Automifai\\Research\\Coding Lessons\\Keras\\Data sets\\cars.csv', header = 0, index_col = 0, delimiter=\",\")\n",
    "x=dataset[:,0:5]\n",
    "y=dataset[:,5]\n",
    "y=np.reshape(y, (-1,1))\n",
    "scaler_x = MinMaxScaler()\n",
    "scaler_y = MinMaxScaler()\n",
    "print(scaler_x.fit(x))\n",
    "xscale=scaler_x.transform(x)\n",
    "print(scaler_y.fit(y))\n",
    "yscale=scaler_y.transform(y)"
   ]
  },
  {
   "cell_type": "code",
   "execution_count": 36,
   "metadata": {},
   "outputs": [],
   "source": [
    "X_train, X_test, y_train, y_test = train_test_split(xscale, yscale)"
   ]
  },
  {
   "cell_type": "code",
   "execution_count": 37,
   "metadata": {},
   "outputs": [
    {
     "name": "stdout",
     "output_type": "stream",
     "text": [
      "Model: \"sequential_4\"\n",
      "_________________________________________________________________\n",
      "Layer (type)                 Output Shape              Param #   \n",
      "=================================================================\n",
      "dense_12 (Dense)             (None, 12)                72        \n",
      "_________________________________________________________________\n",
      "dense_13 (Dense)             (None, 8)                 104       \n",
      "_________________________________________________________________\n",
      "dense_14 (Dense)             (None, 1)                 9         \n",
      "=================================================================\n",
      "Total params: 185\n",
      "Trainable params: 185\n",
      "Non-trainable params: 0\n",
      "_________________________________________________________________\n"
     ]
    }
   ],
   "source": [
    "model = Sequential()\n",
    "model.add(Dense(12, input_dim=5, kernel_initializer='normal', activation='relu'))\n",
    "model.add(Dense(8, activation='relu'))\n",
    "model.add(Dense(1, activation='linear'))\n",
    "model.summary()"
   ]
  },
  {
   "cell_type": "code",
   "execution_count": 38,
   "metadata": {},
   "outputs": [],
   "source": [
    "model.compile(loss='mse', optimizer='adam', metrics=['mse','mae'])"
   ]
  },
  {
   "cell_type": "code",
   "execution_count": 39,
   "metadata": {},
   "outputs": [
    {
     "name": "stdout",
     "output_type": "stream",
     "text": [
      "Train on 577 samples, validate on 145 samples\n",
      "Epoch 1/150\n",
      "577/577 [==============================] - 1s 1ms/sample - loss: 0.1920 - mse: 0.1920 - mae: 0.3257 - val_loss: 0.1379 - val_mse: 0.1379 - val_mae: 0.2745\n",
      "Epoch 2/150\n",
      "577/577 [==============================] - 0s 78us/sample - loss: 0.1457 - mse: 0.1457 - mae: 0.2760 - val_loss: 0.0995 - val_mse: 0.0995 - val_mae: 0.2370\n",
      "Epoch 3/150\n",
      "577/577 [==============================] - 0s 70us/sample - loss: 0.1039 - mse: 0.1039 - mae: 0.2428 - val_loss: 0.0685 - val_mse: 0.0685 - val_mae: 0.2112\n",
      "Epoch 4/150\n",
      "577/577 [==============================] - 0s 106us/sample - loss: 0.0714 - mse: 0.0714 - mae: 0.2228 - val_loss: 0.0569 - val_mse: 0.0569 - val_mae: 0.2075\n",
      "Epoch 5/150\n",
      "577/577 [==============================] - 0s 69us/sample - loss: 0.0603 - mse: 0.0603 - mae: 0.2166 - val_loss: 0.0567 - val_mse: 0.0567 - val_mae: 0.2090\n",
      "Epoch 6/150\n",
      "577/577 [==============================] - 0s 79us/sample - loss: 0.0569 - mse: 0.0569 - mae: 0.2119 - val_loss: 0.0533 - val_mse: 0.0533 - val_mae: 0.2022\n",
      "Epoch 7/150\n",
      "577/577 [==============================] - 0s 81us/sample - loss: 0.0527 - mse: 0.0527 - mae: 0.2035 - val_loss: 0.0484 - val_mse: 0.0484 - val_mae: 0.1924\n",
      "Epoch 8/150\n",
      "577/577 [==============================] - 0s 64us/sample - loss: 0.0487 - mse: 0.0487 - mae: 0.1948 - val_loss: 0.0444 - val_mse: 0.0444 - val_mae: 0.1838\n",
      "Epoch 9/150\n",
      "577/577 [==============================] - 0s 68us/sample - loss: 0.0449 - mse: 0.0449 - mae: 0.1862 - val_loss: 0.0405 - val_mse: 0.0405 - val_mae: 0.1748\n",
      "Epoch 10/150\n",
      "577/577 [==============================] - 0s 69us/sample - loss: 0.0410 - mse: 0.0410 - mae: 0.1769 - val_loss: 0.0371 - val_mse: 0.0371 - val_mae: 0.1661\n",
      "Epoch 11/150\n",
      "577/577 [==============================] - 0s 66us/sample - loss: 0.0373 - mse: 0.0373 - mae: 0.1674 - val_loss: 0.0338 - val_mse: 0.0338 - val_mae: 0.1576\n",
      "Epoch 12/150\n",
      "577/577 [==============================] - 0s 71us/sample - loss: 0.0340 - mse: 0.0340 - mae: 0.1584 - val_loss: 0.0307 - val_mse: 0.0307 - val_mae: 0.1486\n",
      "Epoch 13/150\n",
      "577/577 [==============================] - 0s 69us/sample - loss: 0.0305 - mse: 0.0305 - mae: 0.1484 - val_loss: 0.0269 - val_mse: 0.0269 - val_mae: 0.1376\n",
      "Epoch 14/150\n",
      "577/577 [==============================] - 0s 73us/sample - loss: 0.0271 - mse: 0.0271 - mae: 0.1378 - val_loss: 0.0242 - val_mse: 0.0242 - val_mae: 0.1282\n",
      "Epoch 15/150\n",
      "577/577 [==============================] - 0s 71us/sample - loss: 0.0245 - mse: 0.0245 - mae: 0.1286 - val_loss: 0.0219 - val_mse: 0.0219 - val_mae: 0.1194\n",
      "Epoch 16/150\n",
      "577/577 [==============================] - 0s 78us/sample - loss: 0.0223 - mse: 0.0223 - mae: 0.1206 - val_loss: 0.0199 - val_mse: 0.0199 - val_mae: 0.1117\n",
      "Epoch 17/150\n",
      "577/577 [==============================] - 0s 68us/sample - loss: 0.0206 - mse: 0.0206 - mae: 0.1139 - val_loss: 0.0180 - val_mse: 0.0180 - val_mae: 0.1045\n",
      "Epoch 18/150\n",
      "577/577 [==============================] - 0s 68us/sample - loss: 0.0194 - mse: 0.0194 - mae: 0.1086 - val_loss: 0.0171 - val_mse: 0.0171 - val_mae: 0.1009\n",
      "Epoch 19/150\n",
      "577/577 [==============================] - 0s 73us/sample - loss: 0.0185 - mse: 0.0185 - mae: 0.1051 - val_loss: 0.0164 - val_mse: 0.0164 - val_mae: 0.0979\n",
      "Epoch 20/150\n",
      "577/577 [==============================] - 0s 78us/sample - loss: 0.0180 - mse: 0.0180 - mae: 0.1025 - val_loss: 0.0157 - val_mse: 0.0157 - val_mae: 0.0951\n",
      "Epoch 21/150\n",
      "577/577 [==============================] - 0s 70us/sample - loss: 0.0176 - mse: 0.0176 - mae: 0.1005 - val_loss: 0.0152 - val_mse: 0.0152 - val_mae: 0.0932\n",
      "Epoch 22/150\n",
      "577/577 [==============================] - 0s 71us/sample - loss: 0.0174 - mse: 0.0174 - mae: 0.0992 - val_loss: 0.0151 - val_mse: 0.0151 - val_mae: 0.0926\n",
      "Epoch 23/150\n",
      "577/577 [==============================] - 0s 73us/sample - loss: 0.0172 - mse: 0.0172 - mae: 0.0990 - val_loss: 0.0149 - val_mse: 0.0149 - val_mae: 0.0917\n",
      "Epoch 24/150\n",
      "577/577 [==============================] - 0s 69us/sample - loss: 0.0171 - mse: 0.0171 - mae: 0.0985 - val_loss: 0.0145 - val_mse: 0.0145 - val_mae: 0.0901\n",
      "Epoch 25/150\n",
      "577/577 [==============================] - 0s 73us/sample - loss: 0.0170 - mse: 0.0170 - mae: 0.0980 - val_loss: 0.0144 - val_mse: 0.0144 - val_mae: 0.0900\n",
      "Epoch 26/150\n",
      "577/577 [==============================] - 0s 68us/sample - loss: 0.0170 - mse: 0.0170 - mae: 0.0978 - val_loss: 0.0144 - val_mse: 0.0144 - val_mae: 0.0898\n",
      "Epoch 27/150\n",
      "577/577 [==============================] - 0s 68us/sample - loss: 0.0169 - mse: 0.0169 - mae: 0.0978 - val_loss: 0.0144 - val_mse: 0.0144 - val_mae: 0.0897\n",
      "Epoch 28/150\n",
      "577/577 [==============================] - 0s 75us/sample - loss: 0.0168 - mse: 0.0168 - mae: 0.0976 - val_loss: 0.0143 - val_mse: 0.0143 - val_mae: 0.0897\n",
      "Epoch 29/150\n",
      "577/577 [==============================] - 0s 80us/sample - loss: 0.0168 - mse: 0.0168 - mae: 0.0977 - val_loss: 0.0143 - val_mse: 0.0143 - val_mae: 0.0892\n",
      "Epoch 30/150\n",
      "577/577 [==============================] - 0s 99us/sample - loss: 0.0168 - mse: 0.0168 - mae: 0.0973 - val_loss: 0.0140 - val_mse: 0.0140 - val_mae: 0.0884\n",
      "Epoch 31/150\n",
      "577/577 [==============================] - 0s 62us/sample - loss: 0.0172 - mse: 0.0172 - mae: 0.0995 - val_loss: 0.0146 - val_mse: 0.0146 - val_mae: 0.0903\n",
      "Epoch 32/150\n",
      "577/577 [==============================] - 0s 61us/sample - loss: 0.0167 - mse: 0.0167 - mae: 0.0967 - val_loss: 0.0138 - val_mse: 0.0138 - val_mae: 0.0873\n",
      "Epoch 33/150\n",
      "577/577 [==============================] - 0s 66us/sample - loss: 0.0167 - mse: 0.0167 - mae: 0.0971 - val_loss: 0.0142 - val_mse: 0.0142 - val_mae: 0.0889\n",
      "Epoch 34/150\n",
      "577/577 [==============================] - 0s 69us/sample - loss: 0.0165 - mse: 0.0165 - mae: 0.0966 - val_loss: 0.0140 - val_mse: 0.0140 - val_mae: 0.0885\n",
      "Epoch 35/150\n",
      "577/577 [==============================] - 0s 68us/sample - loss: 0.0165 - mse: 0.0165 - mae: 0.0963 - val_loss: 0.0140 - val_mse: 0.0140 - val_mae: 0.0884\n",
      "Epoch 36/150\n",
      "577/577 [==============================] - 0s 85us/sample - loss: 0.0164 - mse: 0.0164 - mae: 0.0961 - val_loss: 0.0139 - val_mse: 0.0139 - val_mae: 0.0880\n",
      "Epoch 37/150\n",
      "577/577 [==============================] - 0s 71us/sample - loss: 0.0164 - mse: 0.0164 - mae: 0.0965 - val_loss: 0.0141 - val_mse: 0.0141 - val_mae: 0.0890\n",
      "Epoch 38/150\n",
      "577/577 [==============================] - 0s 68us/sample - loss: 0.0163 - mse: 0.0163 - mae: 0.0961 - val_loss: 0.0138 - val_mse: 0.0138 - val_mae: 0.0880\n",
      "Epoch 39/150\n",
      "577/577 [==============================] - 0s 75us/sample - loss: 0.0163 - mse: 0.0163 - mae: 0.0959 - val_loss: 0.0138 - val_mse: 0.0138 - val_mae: 0.0880\n",
      "Epoch 40/150\n",
      "577/577 [==============================] - 0s 68us/sample - loss: 0.0162 - mse: 0.0162 - mae: 0.0955 - val_loss: 0.0137 - val_mse: 0.0137 - val_mae: 0.0875\n",
      "Epoch 41/150\n",
      "577/577 [==============================] - 0s 66us/sample - loss: 0.0162 - mse: 0.0162 - mae: 0.0960 - val_loss: 0.0138 - val_mse: 0.0138 - val_mae: 0.0881\n",
      "Epoch 42/150\n",
      "577/577 [==============================] - 0s 69us/sample - loss: 0.0161 - mse: 0.0161 - mae: 0.0954 - val_loss: 0.0136 - val_mse: 0.0136 - val_mae: 0.0873\n",
      "Epoch 43/150\n",
      "577/577 [==============================] - 0s 64us/sample - loss: 0.0162 - mse: 0.0162 - mae: 0.0951 - val_loss: 0.0138 - val_mse: 0.0138 - val_mae: 0.0878\n",
      "Epoch 44/150\n",
      "577/577 [==============================] - 0s 66us/sample - loss: 0.0161 - mse: 0.0161 - mae: 0.0956 - val_loss: 0.0137 - val_mse: 0.0137 - val_mae: 0.0878\n",
      "Epoch 45/150\n",
      "577/577 [==============================] - 0s 68us/sample - loss: 0.0161 - mse: 0.0161 - mae: 0.0950 - val_loss: 0.0136 - val_mse: 0.0136 - val_mae: 0.0875\n",
      "Epoch 46/150\n",
      "577/577 [==============================] - 0s 66us/sample - loss: 0.0160 - mse: 0.0160 - mae: 0.0951 - val_loss: 0.0136 - val_mse: 0.0136 - val_mae: 0.0873\n",
      "Epoch 47/150\n",
      "577/577 [==============================] - 0s 68us/sample - loss: 0.0160 - mse: 0.0160 - mae: 0.0955 - val_loss: 0.0135 - val_mse: 0.0135 - val_mae: 0.0869\n",
      "Epoch 48/150\n",
      "577/577 [==============================] - 0s 66us/sample - loss: 0.0160 - mse: 0.0160 - mae: 0.0949 - val_loss: 0.0136 - val_mse: 0.0136 - val_mae: 0.0877\n",
      "Epoch 49/150\n"
     ]
    },
    {
     "name": "stdout",
     "output_type": "stream",
     "text": [
      "577/577 [==============================] - 0s 68us/sample - loss: 0.0159 - mse: 0.0159 - mae: 0.0946 - val_loss: 0.0134 - val_mse: 0.0134 - val_mae: 0.0868\n",
      "Epoch 50/150\n",
      "577/577 [==============================] - 0s 66us/sample - loss: 0.0158 - mse: 0.0158 - mae: 0.0947 - val_loss: 0.0136 - val_mse: 0.0136 - val_mae: 0.0871\n",
      "Epoch 51/150\n",
      "577/577 [==============================] - 0s 69us/sample - loss: 0.0158 - mse: 0.0158 - mae: 0.0945 - val_loss: 0.0134 - val_mse: 0.0134 - val_mae: 0.0868\n",
      "Epoch 52/150\n",
      "577/577 [==============================] - 0s 88us/sample - loss: 0.0157 - mse: 0.0157 - mae: 0.0943 - val_loss: 0.0135 - val_mse: 0.0135 - val_mae: 0.0870\n",
      "Epoch 53/150\n",
      "577/577 [==============================] - 0s 62us/sample - loss: 0.0157 - mse: 0.0157 - mae: 0.0942 - val_loss: 0.0134 - val_mse: 0.0134 - val_mae: 0.0864\n",
      "Epoch 54/150\n",
      "577/577 [==============================] - 0s 64us/sample - loss: 0.0157 - mse: 0.0157 - mae: 0.0942 - val_loss: 0.0134 - val_mse: 0.0134 - val_mae: 0.0864\n",
      "Epoch 55/150\n",
      "577/577 [==============================] - 0s 68us/sample - loss: 0.0157 - mse: 0.0157 - mae: 0.0938 - val_loss: 0.0132 - val_mse: 0.0132 - val_mae: 0.0860\n",
      "Epoch 56/150\n",
      "577/577 [==============================] - 0s 68us/sample - loss: 0.0157 - mse: 0.0157 - mae: 0.0944 - val_loss: 0.0135 - val_mse: 0.0135 - val_mae: 0.0870\n",
      "Epoch 57/150\n",
      "577/577 [==============================] - 0s 69us/sample - loss: 0.0155 - mse: 0.0155 - mae: 0.0934 - val_loss: 0.0132 - val_mse: 0.0132 - val_mae: 0.0859\n",
      "Epoch 58/150\n",
      "577/577 [==============================] - 0s 66us/sample - loss: 0.0155 - mse: 0.0155 - mae: 0.0932 - val_loss: 0.0133 - val_mse: 0.0133 - val_mae: 0.0862\n",
      "Epoch 59/150\n",
      "577/577 [==============================] - 0s 69us/sample - loss: 0.0155 - mse: 0.0155 - mae: 0.0935 - val_loss: 0.0135 - val_mse: 0.0135 - val_mae: 0.0871\n",
      "Epoch 60/150\n",
      "577/577 [==============================] - 0s 66us/sample - loss: 0.0154 - mse: 0.0154 - mae: 0.0929 - val_loss: 0.0133 - val_mse: 0.0133 - val_mae: 0.0863\n",
      "Epoch 61/150\n",
      "577/577 [==============================] - 0s 64us/sample - loss: 0.0154 - mse: 0.0154 - mae: 0.0930 - val_loss: 0.0133 - val_mse: 0.0133 - val_mae: 0.0865\n",
      "Epoch 62/150\n",
      "577/577 [==============================] - 0s 68us/sample - loss: 0.0153 - mse: 0.0153 - mae: 0.0924 - val_loss: 0.0130 - val_mse: 0.0130 - val_mae: 0.0851\n",
      "Epoch 63/150\n",
      "577/577 [==============================] - 0s 71us/sample - loss: 0.0154 - mse: 0.0154 - mae: 0.0927 - val_loss: 0.0132 - val_mse: 0.0132 - val_mae: 0.0858\n",
      "Epoch 64/150\n",
      "577/577 [==============================] - 0s 66us/sample - loss: 0.0154 - mse: 0.0154 - mae: 0.0921 - val_loss: 0.0131 - val_mse: 0.0131 - val_mae: 0.0856\n",
      "Epoch 65/150\n",
      "577/577 [==============================] - 0s 85us/sample - loss: 0.0153 - mse: 0.0153 - mae: 0.0931 - val_loss: 0.0134 - val_mse: 0.0134 - val_mae: 0.0870\n",
      "Epoch 66/150\n",
      "577/577 [==============================] - 0s 64us/sample - loss: 0.0151 - mse: 0.0151 - mae: 0.0918 - val_loss: 0.0129 - val_mse: 0.0129 - val_mae: 0.0848\n",
      "Epoch 67/150\n",
      "577/577 [==============================] - 0s 101us/sample - loss: 0.0151 - mse: 0.0151 - mae: 0.0914 - val_loss: 0.0130 - val_mse: 0.0130 - val_mae: 0.0852\n",
      "Epoch 68/150\n",
      "577/577 [==============================] - 0s 66us/sample - loss: 0.0150 - mse: 0.0150 - mae: 0.0914 - val_loss: 0.0132 - val_mse: 0.0132 - val_mae: 0.0863\n",
      "Epoch 69/150\n",
      "577/577 [==============================] - 0s 97us/sample - loss: 0.0150 - mse: 0.0150 - mae: 0.0914 - val_loss: 0.0131 - val_mse: 0.0131 - val_mae: 0.0859\n",
      "Epoch 70/150\n",
      "577/577 [==============================] - 0s 75us/sample - loss: 0.0149 - mse: 0.0149 - mae: 0.0916 - val_loss: 0.0129 - val_mse: 0.0129 - val_mae: 0.0851\n",
      "Epoch 71/150\n",
      "577/577 [==============================] - 0s 68us/sample - loss: 0.0149 - mse: 0.0149 - mae: 0.0909 - val_loss: 0.0128 - val_mse: 0.0128 - val_mae: 0.0843\n",
      "Epoch 72/150\n",
      "577/577 [==============================] - 0s 68us/sample - loss: 0.0148 - mse: 0.0148 - mae: 0.0906 - val_loss: 0.0127 - val_mse: 0.0127 - val_mae: 0.0841\n",
      "Epoch 73/150\n",
      "577/577 [==============================] - 0s 68us/sample - loss: 0.0147 - mse: 0.0147 - mae: 0.0909 - val_loss: 0.0129 - val_mse: 0.0129 - val_mae: 0.0850\n",
      "Epoch 74/150\n",
      "577/577 [==============================] - 0s 64us/sample - loss: 0.0147 - mse: 0.0147 - mae: 0.0903 - val_loss: 0.0125 - val_mse: 0.0125 - val_mae: 0.0832\n",
      "Epoch 75/150\n",
      "577/577 [==============================] - 0s 68us/sample - loss: 0.0147 - mse: 0.0147 - mae: 0.0903 - val_loss: 0.0131 - val_mse: 0.0131 - val_mae: 0.0863\n",
      "Epoch 76/150\n",
      "577/577 [==============================] - 0s 64us/sample - loss: 0.0147 - mse: 0.0147 - mae: 0.0901 - val_loss: 0.0124 - val_mse: 0.0124 - val_mae: 0.0825\n",
      "Epoch 77/150\n",
      "577/577 [==============================] - 0s 64us/sample - loss: 0.0145 - mse: 0.0145 - mae: 0.0896 - val_loss: 0.0126 - val_mse: 0.0126 - val_mae: 0.0841\n",
      "Epoch 78/150\n",
      "577/577 [==============================] - 0s 65us/sample - loss: 0.0144 - mse: 0.0144 - mae: 0.0896 - val_loss: 0.0124 - val_mse: 0.0124 - val_mae: 0.0833\n",
      "Epoch 79/150\n",
      "577/577 [==============================] - 0s 73us/sample - loss: 0.0143 - mse: 0.0143 - mae: 0.0888 - val_loss: 0.0125 - val_mse: 0.0125 - val_mae: 0.0836\n",
      "Epoch 80/150\n",
      "577/577 [==============================] - 0s 69us/sample - loss: 0.0143 - mse: 0.0143 - mae: 0.0896 - val_loss: 0.0124 - val_mse: 0.0124 - val_mae: 0.0831\n",
      "Epoch 81/150\n",
      "577/577 [==============================] - 0s 64us/sample - loss: 0.0143 - mse: 0.0143 - mae: 0.0884 - val_loss: 0.0123 - val_mse: 0.0123 - val_mae: 0.0825\n",
      "Epoch 82/150\n",
      "577/577 [==============================] - 0s 66us/sample - loss: 0.0142 - mse: 0.0142 - mae: 0.0888 - val_loss: 0.0123 - val_mse: 0.0123 - val_mae: 0.0829\n",
      "Epoch 83/150\n",
      "577/577 [==============================] - 0s 66us/sample - loss: 0.0141 - mse: 0.0141 - mae: 0.0879 - val_loss: 0.0121 - val_mse: 0.0121 - val_mae: 0.0817\n",
      "Epoch 84/150\n",
      "577/577 [==============================] - 0s 68us/sample - loss: 0.0140 - mse: 0.0140 - mae: 0.0876 - val_loss: 0.0121 - val_mse: 0.0121 - val_mae: 0.0822\n",
      "Epoch 85/150\n",
      "577/577 [==============================] - 0s 71us/sample - loss: 0.0140 - mse: 0.0140 - mae: 0.0881 - val_loss: 0.0121 - val_mse: 0.0121 - val_mae: 0.0826\n",
      "Epoch 86/150\n",
      "577/577 [==============================] - 0s 66us/sample - loss: 0.0142 - mse: 0.0142 - mae: 0.0892 - val_loss: 0.0120 - val_mse: 0.0120 - val_mae: 0.0816\n",
      "Epoch 87/150\n",
      "577/577 [==============================] - 0s 68us/sample - loss: 0.0139 - mse: 0.0139 - mae: 0.0873 - val_loss: 0.0122 - val_mse: 0.0122 - val_mae: 0.0829\n",
      "Epoch 88/150\n",
      "577/577 [==============================] - 0s 68us/sample - loss: 0.0138 - mse: 0.0138 - mae: 0.0868 - val_loss: 0.0119 - val_mse: 0.0119 - val_mae: 0.0816\n",
      "Epoch 89/150\n",
      "577/577 [==============================] - 0s 68us/sample - loss: 0.0137 - mse: 0.0137 - mae: 0.0865 - val_loss: 0.0118 - val_mse: 0.0118 - val_mae: 0.0811\n",
      "Epoch 90/150\n",
      "577/577 [==============================] - 0s 68us/sample - loss: 0.0137 - mse: 0.0137 - mae: 0.0875 - val_loss: 0.0120 - val_mse: 0.0120 - val_mae: 0.0821\n",
      "Epoch 91/150\n",
      "577/577 [==============================] - 0s 73us/sample - loss: 0.0138 - mse: 0.0138 - mae: 0.0866 - val_loss: 0.0118 - val_mse: 0.0118 - val_mae: 0.0813\n",
      "Epoch 92/150\n",
      "577/577 [==============================] - 0s 85us/sample - loss: 0.0136 - mse: 0.0136 - mae: 0.0868 - val_loss: 0.0120 - val_mse: 0.0120 - val_mae: 0.0828\n",
      "Epoch 93/150\n",
      "577/577 [==============================] - 0s 66us/sample - loss: 0.0135 - mse: 0.0135 - mae: 0.0861 - val_loss: 0.0116 - val_mse: 0.0116 - val_mae: 0.0799\n",
      "Epoch 94/150\n",
      "577/577 [==============================] - 0s 83us/sample - loss: 0.0136 - mse: 0.0136 - mae: 0.0861 - val_loss: 0.0116 - val_mse: 0.0116 - val_mae: 0.0803\n",
      "Epoch 95/150\n",
      "577/577 [==============================] - 0s 68us/sample - loss: 0.0135 - mse: 0.0135 - mae: 0.0851 - val_loss: 0.0116 - val_mse: 0.0116 - val_mae: 0.0804\n",
      "Epoch 96/150\n",
      "577/577 [==============================] - 0s 73us/sample - loss: 0.0134 - mse: 0.0134 - mae: 0.0861 - val_loss: 0.0118 - val_mse: 0.0118 - val_mae: 0.0817\n",
      "Epoch 97/150\n"
     ]
    },
    {
     "name": "stdout",
     "output_type": "stream",
     "text": [
      "577/577 [==============================] - 0s 71us/sample - loss: 0.0134 - mse: 0.0134 - mae: 0.0853 - val_loss: 0.0115 - val_mse: 0.0115 - val_mae: 0.0800\n",
      "Epoch 98/150\n",
      "577/577 [==============================] - 0s 68us/sample - loss: 0.0135 - mse: 0.0135 - mae: 0.0864 - val_loss: 0.0114 - val_mse: 0.0114 - val_mae: 0.0794\n",
      "Epoch 99/150\n",
      "577/577 [==============================] - 0s 69us/sample - loss: 0.0133 - mse: 0.0133 - mae: 0.0844 - val_loss: 0.0114 - val_mse: 0.0114 - val_mae: 0.0795\n",
      "Epoch 100/150\n",
      "577/577 [==============================] - 0s 87us/sample - loss: 0.0132 - mse: 0.0132 - mae: 0.0852 - val_loss: 0.0116 - val_mse: 0.0116 - val_mae: 0.0812\n",
      "Epoch 101/150\n",
      "577/577 [==============================] - 0s 66us/sample - loss: 0.0132 - mse: 0.0132 - mae: 0.0852 - val_loss: 0.0113 - val_mse: 0.0113 - val_mae: 0.0792\n",
      "Epoch 102/150\n",
      "577/577 [==============================] - 0s 66us/sample - loss: 0.0132 - mse: 0.0132 - mae: 0.0840 - val_loss: 0.0115 - val_mse: 0.0115 - val_mae: 0.0804\n",
      "Epoch 103/150\n",
      "577/577 [==============================] - 0s 66us/sample - loss: 0.0132 - mse: 0.0132 - mae: 0.0851 - val_loss: 0.0114 - val_mse: 0.0114 - val_mae: 0.0798\n",
      "Epoch 104/150\n",
      "577/577 [==============================] - 0s 62us/sample - loss: 0.0131 - mse: 0.0131 - mae: 0.0849 - val_loss: 0.0112 - val_mse: 0.0112 - val_mae: 0.0790\n",
      "Epoch 105/150\n",
      "577/577 [==============================] - 0s 67us/sample - loss: 0.0131 - mse: 0.0131 - mae: 0.0840 - val_loss: 0.0114 - val_mse: 0.0114 - val_mae: 0.0802\n",
      "Epoch 106/150\n",
      "577/577 [==============================] - 0s 67us/sample - loss: 0.0133 - mse: 0.0133 - mae: 0.0864 - val_loss: 0.0110 - val_mse: 0.0110 - val_mae: 0.0775\n",
      "Epoch 107/150\n",
      "577/577 [==============================] - 0s 64us/sample - loss: 0.0135 - mse: 0.0135 - mae: 0.0842 - val_loss: 0.0116 - val_mse: 0.0116 - val_mae: 0.0815\n",
      "Epoch 108/150\n",
      "577/577 [==============================] - 0s 69us/sample - loss: 0.0133 - mse: 0.0133 - mae: 0.0868 - val_loss: 0.0112 - val_mse: 0.0112 - val_mae: 0.0790\n",
      "Epoch 109/150\n",
      "577/577 [==============================] - 0s 64us/sample - loss: 0.0131 - mse: 0.0131 - mae: 0.0837 - val_loss: 0.0112 - val_mse: 0.0112 - val_mae: 0.0793\n",
      "Epoch 110/150\n",
      "577/577 [==============================] - 0s 76us/sample - loss: 0.0130 - mse: 0.0130 - mae: 0.0844 - val_loss: 0.0113 - val_mse: 0.0113 - val_mae: 0.0797\n",
      "Epoch 111/150\n",
      "577/577 [==============================] - 0s 70us/sample - loss: 0.0129 - mse: 0.0129 - mae: 0.0829 - val_loss: 0.0111 - val_mse: 0.0111 - val_mae: 0.0787\n",
      "Epoch 112/150\n",
      "577/577 [==============================] - 0s 73us/sample - loss: 0.0129 - mse: 0.0129 - mae: 0.0843 - val_loss: 0.0113 - val_mse: 0.0113 - val_mae: 0.0801\n",
      "Epoch 113/150\n",
      "577/577 [==============================] - 0s 68us/sample - loss: 0.0129 - mse: 0.0129 - mae: 0.0830 - val_loss: 0.0111 - val_mse: 0.0111 - val_mae: 0.0787\n",
      "Epoch 114/150\n",
      "577/577 [==============================] - 0s 68us/sample - loss: 0.0129 - mse: 0.0129 - mae: 0.0848 - val_loss: 0.0111 - val_mse: 0.0111 - val_mae: 0.0786\n",
      "Epoch 115/150\n",
      "577/577 [==============================] - 0s 66us/sample - loss: 0.0128 - mse: 0.0128 - mae: 0.0828 - val_loss: 0.0111 - val_mse: 0.0111 - val_mae: 0.0787\n",
      "Epoch 116/150\n",
      "577/577 [==============================] - 0s 69us/sample - loss: 0.0127 - mse: 0.0127 - mae: 0.0833 - val_loss: 0.0112 - val_mse: 0.0112 - val_mae: 0.0794\n",
      "Epoch 117/150\n",
      "577/577 [==============================] - 0s 66us/sample - loss: 0.0127 - mse: 0.0127 - mae: 0.0830 - val_loss: 0.0110 - val_mse: 0.0110 - val_mae: 0.0779\n",
      "Epoch 118/150\n",
      "577/577 [==============================] - 0s 66us/sample - loss: 0.0128 - mse: 0.0128 - mae: 0.0826 - val_loss: 0.0114 - val_mse: 0.0114 - val_mae: 0.0809\n",
      "Epoch 119/150\n",
      "577/577 [==============================] - 0s 68us/sample - loss: 0.0127 - mse: 0.0127 - mae: 0.0836 - val_loss: 0.0111 - val_mse: 0.0111 - val_mae: 0.0788\n",
      "Epoch 120/150\n",
      "577/577 [==============================] - 0s 68us/sample - loss: 0.0126 - mse: 0.0126 - mae: 0.0826 - val_loss: 0.0112 - val_mse: 0.0112 - val_mae: 0.0796\n",
      "Epoch 121/150\n",
      "577/577 [==============================] - 0s 68us/sample - loss: 0.0127 - mse: 0.0127 - mae: 0.0835 - val_loss: 0.0110 - val_mse: 0.0110 - val_mae: 0.0785\n",
      "Epoch 122/150\n",
      "577/577 [==============================] - 0s 68us/sample - loss: 0.0126 - mse: 0.0126 - mae: 0.0820 - val_loss: 0.0110 - val_mse: 0.0110 - val_mae: 0.0782\n",
      "Epoch 123/150\n",
      "577/577 [==============================] - 0s 83us/sample - loss: 0.0127 - mse: 0.0127 - mae: 0.0829 - val_loss: 0.0111 - val_mse: 0.0111 - val_mae: 0.0791\n",
      "Epoch 124/150\n",
      "577/577 [==============================] - 0s 62us/sample - loss: 0.0126 - mse: 0.0126 - mae: 0.0813 - val_loss: 0.0110 - val_mse: 0.0110 - val_mae: 0.0781\n",
      "Epoch 125/150\n",
      "577/577 [==============================] - 0s 66us/sample - loss: 0.0126 - mse: 0.0126 - mae: 0.0831 - val_loss: 0.0113 - val_mse: 0.0113 - val_mae: 0.0801\n",
      "Epoch 126/150\n",
      "577/577 [==============================] - 0s 64us/sample - loss: 0.0125 - mse: 0.0125 - mae: 0.0818 - val_loss: 0.0111 - val_mse: 0.0111 - val_mae: 0.0787\n",
      "Epoch 127/150\n",
      "577/577 [==============================] - 0s 75us/sample - loss: 0.0124 - mse: 0.0124 - mae: 0.0821 - val_loss: 0.0112 - val_mse: 0.0112 - val_mae: 0.0799\n",
      "Epoch 128/150\n",
      "577/577 [==============================] - 0s 68us/sample - loss: 0.0124 - mse: 0.0124 - mae: 0.0821 - val_loss: 0.0109 - val_mse: 0.0109 - val_mae: 0.0779\n",
      "Epoch 129/150\n",
      "577/577 [==============================] - 0s 94us/sample - loss: 0.0125 - mse: 0.0125 - mae: 0.0813 - val_loss: 0.0112 - val_mse: 0.0112 - val_mae: 0.0799\n",
      "Epoch 130/150\n",
      "577/577 [==============================] - 0s 71us/sample - loss: 0.0125 - mse: 0.0125 - mae: 0.0826 - val_loss: 0.0109 - val_mse: 0.0109 - val_mae: 0.0774\n",
      "Epoch 131/150\n",
      "577/577 [==============================] - 0s 68us/sample - loss: 0.0125 - mse: 0.0125 - mae: 0.0821 - val_loss: 0.0112 - val_mse: 0.0112 - val_mae: 0.0798\n",
      "Epoch 132/150\n",
      "577/577 [==============================] - 0s 66us/sample - loss: 0.0126 - mse: 0.0126 - mae: 0.0810 - val_loss: 0.0112 - val_mse: 0.0112 - val_mae: 0.0795\n",
      "Epoch 133/150\n",
      "577/577 [==============================] - 0s 66us/sample - loss: 0.0123 - mse: 0.0123 - mae: 0.0816 - val_loss: 0.0112 - val_mse: 0.0112 - val_mae: 0.0796\n",
      "Epoch 134/150\n",
      "577/577 [==============================] - 0s 68us/sample - loss: 0.0123 - mse: 0.0123 - mae: 0.0815 - val_loss: 0.0111 - val_mse: 0.0111 - val_mae: 0.0791\n",
      "Epoch 135/150\n",
      "577/577 [==============================] - 0s 68us/sample - loss: 0.0123 - mse: 0.0123 - mae: 0.0814 - val_loss: 0.0113 - val_mse: 0.0113 - val_mae: 0.0803\n",
      "Epoch 136/150\n",
      "577/577 [==============================] - 0s 69us/sample - loss: 0.0123 - mse: 0.0123 - mae: 0.0811 - val_loss: 0.0109 - val_mse: 0.0109 - val_mae: 0.0779\n",
      "Epoch 137/150\n",
      "577/577 [==============================] - 0s 88us/sample - loss: 0.0123 - mse: 0.0123 - mae: 0.0814 - val_loss: 0.0109 - val_mse: 0.0109 - val_mae: 0.0781\n",
      "Epoch 138/150\n",
      "577/577 [==============================] - 0s 68us/sample - loss: 0.0123 - mse: 0.0123 - mae: 0.0808 - val_loss: 0.0111 - val_mse: 0.0111 - val_mae: 0.0791\n",
      "Epoch 139/150\n",
      "577/577 [==============================] - 0s 99us/sample - loss: 0.0123 - mse: 0.0123 - mae: 0.0811 - val_loss: 0.0113 - val_mse: 0.0113 - val_mae: 0.0804\n",
      "Epoch 140/150\n",
      "577/577 [==============================] - 0s 104us/sample - loss: 0.0122 - mse: 0.0122 - mae: 0.0814 - val_loss: 0.0110 - val_mse: 0.0110 - val_mae: 0.0783\n",
      "Epoch 141/150\n",
      "577/577 [==============================] - 0s 71us/sample - loss: 0.0122 - mse: 0.0122 - mae: 0.0807 - val_loss: 0.0110 - val_mse: 0.0110 - val_mae: 0.0783\n",
      "Epoch 142/150\n",
      "577/577 [==============================] - 0s 66us/sample - loss: 0.0122 - mse: 0.0122 - mae: 0.0808 - val_loss: 0.0110 - val_mse: 0.0110 - val_mae: 0.0788\n",
      "Epoch 143/150\n",
      "577/577 [==============================] - 0s 76us/sample - loss: 0.0122 - mse: 0.0122 - mae: 0.0805 - val_loss: 0.0111 - val_mse: 0.0111 - val_mae: 0.0790\n",
      "Epoch 144/150\n",
      "577/577 [==============================] - 0s 102us/sample - loss: 0.0123 - mse: 0.0123 - mae: 0.0812 - val_loss: 0.0112 - val_mse: 0.0112 - val_mae: 0.0802\n",
      "Epoch 145/150\n"
     ]
    },
    {
     "name": "stdout",
     "output_type": "stream",
     "text": [
      "577/577 [==============================] - 0s 64us/sample - loss: 0.0122 - mse: 0.0122 - mae: 0.0811 - val_loss: 0.0109 - val_mse: 0.0109 - val_mae: 0.0776\n",
      "Epoch 146/150\n",
      "577/577 [==============================] - 0s 69us/sample - loss: 0.0121 - mse: 0.0121 - mae: 0.0801 - val_loss: 0.0111 - val_mse: 0.0111 - val_mae: 0.0791\n",
      "Epoch 147/150\n",
      "577/577 [==============================] - 0s 66us/sample - loss: 0.0123 - mse: 0.0123 - mae: 0.0819 - val_loss: 0.0109 - val_mse: 0.0109 - val_mae: 0.0777\n",
      "Epoch 148/150\n",
      "577/577 [==============================] - 0s 68us/sample - loss: 0.0122 - mse: 0.0122 - mae: 0.0803 - val_loss: 0.0112 - val_mse: 0.0112 - val_mae: 0.0798\n",
      "Epoch 149/150\n",
      "577/577 [==============================] - 0s 66us/sample - loss: 0.0122 - mse: 0.0122 - mae: 0.0803 - val_loss: 0.0112 - val_mse: 0.0112 - val_mae: 0.0796\n",
      "Epoch 150/150\n",
      "577/577 [==============================] - 0s 73us/sample - loss: 0.0122 - mse: 0.0122 - mae: 0.0810 - val_loss: 0.0110 - val_mse: 0.0110 - val_mae: 0.0784\n"
     ]
    }
   ],
   "source": [
    ">>> history = model.fit(X_train, y_train, epochs=150, batch_size=50,  verbose=1, validation_split=0.2)"
   ]
  },
  {
   "cell_type": "code",
   "execution_count": 40,
   "metadata": {},
   "outputs": [
    {
     "name": "stdout",
     "output_type": "stream",
     "text": [
      "dict_keys(['loss', 'mse', 'mae', 'val_loss', 'val_mse', 'val_mae'])\n"
     ]
    },
    {
     "data": {
      "image/png": "[encoded data removed]",
      "text/plain": [
       "<Figure size 432x288 with 1 Axes>"
      ]
     },
     "metadata": {
      "needs_background": "light"
     },
     "output_type": "display_data"
    }
   ],
   "source": [
    "print(history.history.keys())\n",
    "# \"Loss\"\n",
    "plt.plot(history.history['loss'])\n",
    "plt.plot(history.history['val_loss'])\n",
    "plt.title('model loss')\n",
    "plt.ylabel('loss')\n",
    "plt.xlabel('epoch')\n",
    "plt.legend(['train', 'validation'], loc='upper left')\n",
    "plt.show()"
   ]
  },
  {
   "cell_type": "code",
   "execution_count": 41,
   "metadata": {},
   "outputs": [],
   "source": [
    "Xnew = np.array([[40, 0, 26, 9000, 8000]])"
   ]
  },
  {
   "cell_type": "code",
   "execution_count": 42,
   "metadata": {},
   "outputs": [
    {
     "name": "stdout",
     "output_type": "stream",
     "text": [
      "X=[  40.    0.   26. 9000. 8000.], Predicted=[13918.433]\n"
     ]
    }
   ],
   "source": [
    "Xnew = np.array([[40, 0, 26, 9000, 8000]])\n",
    "Xnew= scaler_x.transform(Xnew)\n",
    "ynew= model.predict(Xnew)\n",
    "#invert normalize\n",
    "ynew = scaler_y.inverse_transform(ynew) \n",
    "Xnew = scaler_x.inverse_transform(Xnew)\n",
    "print(\"X=%s, Predicted=%s\" % (Xnew[0], ynew[0]))"
   ]
  },
  {
   "cell_type": "code",
   "execution_count": null,
   "metadata": {},
   "outputs": [],
   "source": []
  }
 ],
 "metadata": {
  "kernelspec": {
   "display_name": "Python 3",
   "language": "python",
   "name": "python3"
  },
  "language_info": {
   "codemirror_mode": {
    "name": "ipython",
    "version": 3
   },
   "file_extension": ".py",
   "mimetype": "text/x-python",
   "name": "python",
   "nbconvert_exporter": "python",
   "pygments_lexer": "ipython3",
   "version": "3.7.4"
  }
 },
 "nbformat": 4,
 "nbformat_minor": 2
}
