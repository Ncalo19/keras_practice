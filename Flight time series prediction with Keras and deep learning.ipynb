{
 "cells": [
  {
   "cell_type": "code",
   "execution_count": 29,
   "metadata": {},
   "outputs": [
    {
     "name": "stdout",
     "output_type": "stream",
     "text": [
      "https://machinelearningmastery.com/time-series-prediction-with-deep-learning-in-python-with-keras/\n"
     ]
    }
   ],
   "source": [
    "print(\"https://machinelearningmastery.com/time-series-prediction-with-deep-learning-in-python-with-keras/\")"
   ]
  },
  {
   "cell_type": "code",
   "execution_count": 30,
   "metadata": {
    "scrolled": true
   },
   "outputs": [],
   "source": [
    "import pandas\n",
    "import matplotlib.pyplot as plt\n",
    "import math\n",
    "import numpy\n",
    "from keras.models import Sequential\n",
    "from keras.layers import Dense"
   ]
  },
  {
   "cell_type": "code",
   "execution_count": 31,
   "metadata": {},
   "outputs": [
    {
     "data": {
      "image/png": "[encoded data removed]",
      "text/plain": [
       "<Figure size 432x288 with 1 Axes>"
      ]
     },
     "metadata": {
      "needs_background": "light"
     },
     "output_type": "display_data"
    }
   ],
   "source": [
    "dataset = pandas.read_csv(r'C:\\Users\\nCalo\\Documents\\Automifai\\Research\\Coding Lessons\\Keras\\Data sets\\airline_passengers.csv', usecols=[1], engine='python')\n",
    "plt.plot(dataset)\n",
    "plt.show()"
   ]
  },
  {
   "cell_type": "code",
   "execution_count": 32,
   "metadata": {},
   "outputs": [],
   "source": [
    "dataframe = pandas.read_csv(r'C:\\Users\\nCalo\\Documents\\Automifai\\Research\\Coding Lessons\\Keras\\Data sets\\airline_passengers.csv', usecols=[1], engine='python')\n",
    "dataset = dataframe.values\n",
    "dataset = dataset.astype('float32')"
   ]
  },
  {
   "cell_type": "code",
   "execution_count": 33,
   "metadata": {},
   "outputs": [
    {
     "name": "stdout",
     "output_type": "stream",
     "text": [
      "96 48\n"
     ]
    }
   ],
   "source": [
    "train_size = int(len(dataset)* .67)\n",
    "test_size = len(dataset) - train_size\n",
    "train, test = dataset[0:train_size,:], dataset[train_size:len(dataset),:]\n",
    "print(len(train), len(test))"
   ]
  },
  {
   "cell_type": "code",
   "execution_count": 34,
   "metadata": {},
   "outputs": [],
   "source": [
    "def create_dataset(dataset, look_back=1):\n",
    "\tdataX, dataY = [], []\n",
    "\tfor i in range(len(dataset)-look_back-1):\n",
    "\t\ta = dataset[i:(i+look_back), 0]\n",
    "\t\tdataX.append(a)\n",
    "\t\tdataY.append(dataset[i + look_back, 0])\n",
    "\treturn numpy.array(dataX), numpy.array(dataY)"
   ]
  },
  {
   "cell_type": "code",
   "execution_count": 35,
   "metadata": {},
   "outputs": [],
   "source": [
    "look_back = 1\n",
    "trainX, trainY = create_dataset(train, look_back)\n",
    "testX, testY = create_dataset(test, look_back)"
   ]
  },
  {
   "cell_type": "code",
   "execution_count": 36,
   "metadata": {},
   "outputs": [
    {
     "name": "stdout",
     "output_type": "stream",
     "text": [
      "Epoch 1/50\n",
      " - 0s - loss: 57519.6649\n",
      "Epoch 2/50\n",
      " - 0s - loss: 40762.4025\n",
      "Epoch 3/50\n",
      " - 0s - loss: 28843.4311\n",
      "Epoch 4/50\n",
      " - 0s - loss: 19693.1729\n",
      "Epoch 5/50\n",
      " - 0s - loss: 13347.8935\n",
      "Epoch 6/50\n",
      " - 0s - loss: 8581.5872\n",
      "Epoch 7/50\n",
      " - 0s - loss: 5311.7507\n",
      "Epoch 8/50\n",
      " - 0s - loss: 3121.1186\n",
      "Epoch 9/50\n",
      " - 0s - loss: 1852.8807\n",
      "Epoch 10/50\n",
      " - 0s - loss: 1143.0518\n",
      "Epoch 11/50\n",
      " - 0s - loss: 792.0619\n",
      "Epoch 12/50\n",
      " - 0s - loss: 642.4590\n",
      "Epoch 13/50\n",
      " - 0s - loss: 573.0723\n",
      "Epoch 14/50\n",
      " - 0s - loss: 549.9555\n",
      "Epoch 15/50\n",
      " - 0s - loss: 543.1548\n",
      "Epoch 16/50\n",
      " - 0s - loss: 538.1766\n",
      "Epoch 17/50\n",
      " - 0s - loss: 538.6093\n",
      "Epoch 18/50\n",
      " - 0s - loss: 538.1382\n",
      "Epoch 19/50\n",
      " - 0s - loss: 540.2986\n",
      "Epoch 20/50\n",
      " - 0s - loss: 539.1949\n",
      "Epoch 21/50\n",
      " - 0s - loss: 538.7371\n",
      "Epoch 22/50\n",
      " - 0s - loss: 537.9679\n",
      "Epoch 23/50\n",
      " - 0s - loss: 540.1848\n",
      "Epoch 24/50\n",
      " - 0s - loss: 537.0489\n",
      "Epoch 25/50\n",
      " - 0s - loss: 538.7055\n",
      "Epoch 26/50\n",
      " - 0s - loss: 538.1423\n",
      "Epoch 27/50\n",
      " - 0s - loss: 540.2359\n",
      "Epoch 28/50\n",
      " - 0s - loss: 538.0333\n",
      "Epoch 29/50\n",
      " - 0s - loss: 537.4356\n",
      "Epoch 30/50\n",
      " - 0s - loss: 537.5522\n",
      "Epoch 31/50\n",
      " - 0s - loss: 538.4311\n",
      "Epoch 32/50\n",
      " - 0s - loss: 543.3125\n",
      "Epoch 33/50\n",
      " - 0s - loss: 538.5327\n",
      "Epoch 34/50\n",
      " - 0s - loss: 537.9535\n",
      "Epoch 35/50\n",
      " - 0s - loss: 543.1834\n",
      "Epoch 36/50\n",
      " - 0s - loss: 538.7387\n",
      "Epoch 37/50\n",
      " - 0s - loss: 541.5688\n",
      "Epoch 38/50\n",
      " - 0s - loss: 541.5629\n",
      "Epoch 39/50\n",
      " - 0s - loss: 539.5168\n",
      "Epoch 40/50\n",
      " - 0s - loss: 537.8031\n",
      "Epoch 41/50\n",
      " - 0s - loss: 539.8324\n",
      "Epoch 42/50\n",
      " - 0s - loss: 538.3901\n",
      "Epoch 43/50\n",
      " - 0s - loss: 538.7292\n",
      "Epoch 44/50\n",
      " - 0s - loss: 541.9376\n",
      "Epoch 45/50\n",
      " - 0s - loss: 546.2281\n",
      "Epoch 46/50\n",
      " - 0s - loss: 534.6755\n",
      "Epoch 47/50\n",
      " - 0s - loss: 537.9500\n",
      "Epoch 48/50\n",
      " - 0s - loss: 541.2648\n",
      "Epoch 49/50\n",
      " - 0s - loss: 542.5896\n",
      "Epoch 50/50\n",
      " - 0s - loss: 537.3807\n"
     ]
    },
    {
     "data": {
      "text/plain": [
       "<keras.callbacks.callbacks.History at 0x1aebd11f148>"
      ]
     },
     "execution_count": 36,
     "metadata": {},
     "output_type": "execute_result"
    }
   ],
   "source": [
    "model = Sequential()\n",
    "model.add(Dense(8, input_dim=look_back, activation='relu'))\n",
    "model.add(Dense(1))\n",
    "model.compile(loss='mean_squared_error', optimizer='adam')\n",
    "model.fit(trainX, trainY, epochs=50, batch_size=2, verbose=2)"
   ]
  },
  {
   "cell_type": "code",
   "execution_count": 37,
   "metadata": {},
   "outputs": [
    {
     "name": "stdout",
     "output_type": "stream",
     "text": [
      "Train Score: 534.62 MSE (23.12 RMSE)\n",
      "Test Score: 2361.72 MSE (48.60 RMSE)\n"
     ]
    }
   ],
   "source": [
    "trainScore = model.evaluate(trainX, trainY, verbose=0)\n",
    "print('Train Score: %.2f MSE (%.2f RMSE)' % (trainScore, math.sqrt(trainScore)))\n",
    "testScore = model.evaluate(testX, testY, verbose=0)\n",
    "print('Test Score: %.2f MSE (%.2f RMSE)' % (testScore, math.sqrt(testScore)))"
   ]
  },
  {
   "cell_type": "code",
   "execution_count": 38,
   "metadata": {},
   "outputs": [
    {
     "data": {
      "image/png": "[encoded data removed]",
      "text/plain": [
       "<Figure size 432x288 with 1 Axes>"
      ]
     },
     "metadata": {
      "needs_background": "light"
     },
     "output_type": "display_data"
    }
   ],
   "source": [
    "trainPredict = model.predict(trainX)\n",
    "testPredict = model.predict(testX)\n",
    "\n",
    "trainPredictPlot = numpy.empty_like(dataset)\n",
    "trainPredictPlot[:, :] = numpy.nan\n",
    "trainPredictPlot[look_back:len(trainPredict)+look_back :] = trainPredict\n",
    "\n",
    "testPredictPlot = numpy.empty_like(dataset)\n",
    "testPredictPlot[:, :] = numpy.nan\n",
    "testPredictPlot[len(trainPredict)+(look_back*2)+1:len(dataset)-1, :] = testPredict\n",
    "\n",
    "plt.plot(dataset)\n",
    "plt.plot(trainPredictPlot)\n",
    "plt.plot(testPredictPlot)\n",
    "plt.show()"
   ]
  },
  {
   "cell_type": "code",
   "execution_count": null,
   "metadata": {},
   "outputs": [],
   "source": []
  }
 ],
 "metadata": {
  "kernelspec": {
   "display_name": "Python 3",
   "language": "python",
   "name": "python3"
  },
  "language_info": {
   "codemirror_mode": {
    "name": "ipython",
    "version": 3
   },
   "file_extension": ".py",
   "mimetype": "text/x-python",
   "name": "python",
   "nbconvert_exporter": "python",
   "pygments_lexer": "ipython3",
   "version": "3.7.4"
  }
 },
 "nbformat": 4,
 "nbformat_minor": 2
}
